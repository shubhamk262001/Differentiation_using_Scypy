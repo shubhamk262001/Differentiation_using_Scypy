{
  "nbformat": 4,
  "nbformat_minor": 0,
  "metadata": {
    "colab": {
      "provenance": [],
      "authorship_tag": "ABX9TyOTwHcxHSIbfQy7+1D2gHjf",
      "include_colab_link": true
    },
    "kernelspec": {
      "name": "python3",
      "display_name": "Python 3"
    },
    "language_info": {
      "name": "python"
    }
  },
  "cells": [
    {
      "cell_type": "markdown",
      "metadata": {
        "id": "view-in-github",
        "colab_type": "text"
      },
      "source": [
        "<a href=\"https://colab.research.google.com/github/shubhamk262001/Differentiation_using_Scypy/blob/main/differentiation_using_Sympy.ipynb\" target=\"_parent\"><img src=\"https://colab.research.google.com/assets/colab-badge.svg\" alt=\"Open In Colab\"/></a>"
      ]
    },
    {
      "cell_type": "markdown",
      "source": [
        "## SYMBOLIC MATHEMATICS PYTHON DIFFERENTIATION\n",
        "\n",
        "---\n",
        "\n",
        "\n",
        "In this file I have used symbolic mathematics python library for differentiation of mathematical function.\n",
        "\n",
        "\n",
        "---\n",
        "\n",
        "\n",
        "Symbolic  Mathematics python library gives us a very interactive way to differentiate and look for the solutions.\n",
        "we will aslo be looking for how to take the nth dervate of the function"
      ],
      "metadata": {
        "id": "6nLlogf1-Hpw"
      }
    },
    {
      "cell_type": "code",
      "execution_count": 65,
      "metadata": {
        "id": "yLY1umJpzK3T"
      },
      "outputs": [],
      "source": [
        "import sympy as sym               # importing the library\n"
      ]
    },
    {
      "cell_type": "markdown",
      "source": [
        "After importing the essential python library we are good to go for solving problems.\n",
        "\n",
        "The first few problems will be simple and the as we go far we will take more complicated function."
      ],
      "metadata": {
        "id": "for9zDEJBSnN"
      }
    },
    {
      "cell_type": "markdown",
      "source": [
        "# Problem 1\n",
        "\n",
        "$\\ f(x) $ = $\\frac{sin(x)}{cos(x)} $  \\\\\n",
        "\n",
        "In this problem our variable is \"x\" and our funditon is just a simple funciton of \"x\"."
      ],
      "metadata": {
        "id": "CgQ2xcsM0EMB"
      }
    },
    {
      "cell_type": "code",
      "source": [
        "x = sym.symbols( 'x' , real = True)      # defing the symbols used in the function. since it take real values therefore we have made \"real = True\"\n",
        "f1 = (sym.sin(x))/(sym.cos(x)) # now we are defing our fucntion "
      ],
      "metadata": {
        "id": "i5xAhOo70SoP"
      },
      "execution_count": 66,
      "outputs": []
    },
    {
      "cell_type": "code",
      "source": [
        "df_dx = sym.diff(f1,x)\n",
        "df_dx"
      ],
      "metadata": {
        "colab": {
          "base_uri": "https://localhost:8080/",
          "height": 59
        },
        "id": "o88Oo3Cz1knw",
        "outputId": "0296f129-3c3a-470a-c554-287bbe99a51d"
      },
      "execution_count": 67,
      "outputs": [
        {
          "output_type": "execute_result",
          "data": {
            "text/plain": [
              "sin(x)**2/cos(x)**2 + 1"
            ],
            "text/latex": "$\\displaystyle \\frac{\\sin^{2}{\\left(x \\right)}}{\\cos^{2}{\\left(x \\right)}} + 1$"
          },
          "metadata": {},
          "execution_count": 67
        }
      ]
    },
    {
      "cell_type": "markdown",
      "source": [
        "We can see in the above solution that how our functions differentiation is interactively getting viewed to us."
      ],
      "metadata": {
        "id": "pa70EfexDV6u"
      }
    },
    {
      "cell_type": "markdown",
      "source": [
        "# Taking the nth derivative\n",
        " here we will tahe n =2 , that is we will be taling second derivative.\n",
        "\n"
      ],
      "metadata": {
        "id": "0-ckC-4NSCsb"
      }
    },
    {
      "cell_type": "code",
      "source": [
        "df2_dx2 = sym.diff(f1,x,2)\n",
        "df2_dx2"
      ],
      "metadata": {
        "colab": {
          "base_uri": "https://localhost:8080/",
          "height": 70
        },
        "id": "ePJSRDk2TO96",
        "outputId": "6ce27f2d-2eb6-4acd-d3de-0a9a9db2d19c"
      },
      "execution_count": 76,
      "outputs": [
        {
          "output_type": "execute_result",
          "data": {
            "text/plain": [
              "(2*sin(x)**2/cos(x)**2 + 2)*sin(x)/cos(x)"
            ],
            "text/latex": "$\\displaystyle \\frac{\\left(\\frac{2 \\sin^{2}{\\left(x \\right)}}{\\cos^{2}{\\left(x \\right)}} + 2\\right) \\sin{\\left(x \\right)}}{\\cos{\\left(x \\right)}}$"
          },
          "metadata": {},
          "execution_count": 76
        }
      ]
    },
    {
      "cell_type": "markdown",
      "source": [
        "# Problem 2\n",
        "\n",
        "$\\ f(x) $ = $\\ e^{x}sin(x) $  \\\\\n",
        "\n",
        "In this problem our variable is \"x\" and our function is just a simple function of \"x\"."
      ],
      "metadata": {
        "id": "hbZkUm5mExUM"
      }
    },
    {
      "cell_type": "markdown",
      "source": [],
      "metadata": {
        "id": "vUb16xkbSCGJ"
      }
    },
    {
      "cell_type": "code",
      "source": [
        "x = sym.symbols( 'x' , real = True)\n",
        "f2 = sym.exp(x) * sym.sin(x)"
      ],
      "metadata": {
        "id": "hVq8VVYPDkVj"
      },
      "execution_count": 68,
      "outputs": []
    },
    {
      "cell_type": "code",
      "source": [
        "df_dx = sym.diff(f2,x)\n",
        "df_dx"
      ],
      "metadata": {
        "colab": {
          "base_uri": "https://localhost:8080/",
          "height": 38
        },
        "id": "RjEz-MwxG8Hh",
        "outputId": "65a36dd1-ed86-4287-afa0-28eb6b54a85b"
      },
      "execution_count": 69,
      "outputs": [
        {
          "output_type": "execute_result",
          "data": {
            "text/plain": [
              "exp(x)*sin(x) + exp(x)*cos(x)"
            ],
            "text/latex": "$\\displaystyle e^{x} \\sin{\\left(x \\right)} + e^{x} \\cos{\\left(x \\right)}$"
          },
          "metadata": {},
          "execution_count": 69
        }
      ]
    },
    {
      "cell_type": "markdown",
      "source": [
        "# Problem 3\n",
        "\n",
        "$\\ f(x) $ = $\\ e^{x^2}ln(x)cos(x)tan(x) + x^4 $  \\\\\n",
        "\n",
        "In this problem our variable is \"x\" and our function is a function of \"x\"."
      ],
      "metadata": {
        "id": "xaTSEDfxHX7z"
      }
    },
    {
      "cell_type": "code",
      "source": [
        "x = sym.symbols( 'x' , real = True)\n",
        "f3 = sym.exp(x) * sym.ln(x) * sym.cos(x) * sym.tan(x) + x**4"
      ],
      "metadata": {
        "id": "cfqBN4DyM8Sz"
      },
      "execution_count": 70,
      "outputs": []
    },
    {
      "cell_type": "code",
      "source": [
        "f3 # here we are printing our function to check that whether we have written the function properly."
      ],
      "metadata": {
        "colab": {
          "base_uri": "https://localhost:8080/",
          "height": 38
        },
        "id": "UfoQw6JjNSAW",
        "outputId": "f2d95b75-9eb2-439d-ac69-b294542f1f38"
      },
      "execution_count": 71,
      "outputs": [
        {
          "output_type": "execute_result",
          "data": {
            "text/plain": [
              "x**4 + exp(x)*log(x)*cos(x)*tan(x)"
            ],
            "text/latex": "$\\displaystyle x^{4} + e^{x} \\log{\\left(x \\right)} \\cos{\\left(x \\right)} \\tan{\\left(x \\right)}$"
          },
          "metadata": {},
          "execution_count": 71
        }
      ]
    },
    {
      "cell_type": "code",
      "source": [
        "df_dx = sym.diff(f3,x)\n",
        "df_dx"
      ],
      "metadata": {
        "colab": {
          "base_uri": "https://localhost:8080/",
          "height": 53
        },
        "id": "XVCkuPa_NXAS",
        "outputId": "33c832d5-557f-4b89-d4dc-ec081244b97e"
      },
      "execution_count": 72,
      "outputs": [
        {
          "output_type": "execute_result",
          "data": {
            "text/plain": [
              "4*x**3 + (tan(x)**2 + 1)*exp(x)*log(x)*cos(x) - exp(x)*log(x)*sin(x)*tan(x) + exp(x)*log(x)*cos(x)*tan(x) + exp(x)*cos(x)*tan(x)/x"
            ],
            "text/latex": "$\\displaystyle 4 x^{3} + \\left(\\tan^{2}{\\left(x \\right)} + 1\\right) e^{x} \\log{\\left(x \\right)} \\cos{\\left(x \\right)} - e^{x} \\log{\\left(x \\right)} \\sin{\\left(x \\right)} \\tan{\\left(x \\right)} + e^{x} \\log{\\left(x \\right)} \\cos{\\left(x \\right)} \\tan{\\left(x \\right)} + \\frac{e^{x} \\cos{\\left(x \\right)} \\tan{\\left(x \\right)}}{x}$"
          },
          "metadata": {},
          "execution_count": 72
        }
      ]
    },
    {
      "cell_type": "markdown",
      "source": [
        "# Problem 4\n",
        "Now we will be looking to mkore complicarted funciotn by adding more parameters to the funciton.\n",
        "\n",
        "Let us take that we have three parametres a,b,c and one variable x.\n",
        "\n",
        "let us take the function as defined below.\n",
        "\n",
        "\n",
        "$\\ f(x) $ = $\\ ax^2 + sin(be^{x^5})cos(e^{3xc+bx^4}) + e^{e^{e^{3x^4}}}$"
      ],
      "metadata": {
        "id": "cdgwALo6OCXp"
      }
    },
    {
      "cell_type": "code",
      "source": [
        "x,a,b,c = sym.symbols(\"x,a,b,c\",real = True)\n",
        "f4 = (a * x**2) + sym.sin(b*sym.exp(x**5)) * sym.cos(sym.exp(3*x*b + b* x**4))+ sym.exp(sym.exp(sym.exp(3*x**4)))"
      ],
      "metadata": {
        "id": "LQcJQCmpQR28"
      },
      "execution_count": 73,
      "outputs": []
    },
    {
      "cell_type": "code",
      "source": [
        "f4"
      ],
      "metadata": {
        "colab": {
          "base_uri": "https://localhost:8080/",
          "height": 52
        },
        "id": "nLWuhl_jRKe9",
        "outputId": "2de1eccd-1119-44e2-d10d-1413297cb660"
      },
      "execution_count": 74,
      "outputs": [
        {
          "output_type": "execute_result",
          "data": {
            "text/plain": [
              "a*x**2 + exp(exp(exp(3*x**4))) + sin(b*exp(x**5))*cos(exp(b*x**4 + 3*b*x))"
            ],
            "text/latex": "$\\displaystyle a x^{2} + e^{e^{e^{3 x^{4}}}} + \\sin{\\left(b e^{x^{5}} \\right)} \\cos{\\left(e^{b x^{4} + 3 b x} \\right)}$"
          },
          "metadata": {},
          "execution_count": 74
        }
      ]
    },
    {
      "cell_type": "code",
      "source": [
        "df_dx = sym.diff(f4,x)\n",
        "df_dx"
      ],
      "metadata": {
        "colab": {
          "base_uri": "https://localhost:8080/",
          "height": 52
        },
        "id": "jm_9ulF3RLyS",
        "outputId": "9adb5b4e-ad64-420a-b68a-9d4e43318a87"
      },
      "execution_count": 75,
      "outputs": [
        {
          "output_type": "execute_result",
          "data": {
            "text/plain": [
              "2*a*x + 5*b*x**4*exp(x**5)*cos(b*exp(x**5))*cos(exp(b*x**4 + 3*b*x)) + 12*x**3*exp(3*x**4)*exp(exp(3*x**4))*exp(exp(exp(3*x**4))) - (4*b*x**3 + 3*b)*exp(b*x**4 + 3*b*x)*sin(b*exp(x**5))*sin(exp(b*x**4 + 3*b*x))"
            ],
            "text/latex": "$\\displaystyle 2 a x + 5 b x^{4} e^{x^{5}} \\cos{\\left(b e^{x^{5}} \\right)} \\cos{\\left(e^{b x^{4} + 3 b x} \\right)} + 12 x^{3} e^{3 x^{4}} e^{e^{3 x^{4}}} e^{e^{e^{3 x^{4}}}} - \\left(4 b x^{3} + 3 b\\right) e^{b x^{4} + 3 b x} \\sin{\\left(b e^{x^{5}} \\right)} \\sin{\\left(e^{b x^{4} + 3 b x} \\right)}$"
          },
          "metadata": {},
          "execution_count": 75
        }
      ]
    },
    {
      "cell_type": "code",
      "source": [
        "df_dx = sym.diff(f4,x,2)\n",
        "df_dx"
      ],
      "metadata": {
        "colab": {
          "base_uri": "https://localhost:8080/",
          "height": 144
        },
        "id": "MXquFAGNR9er",
        "outputId": "2f9866b0-2c7f-4c4a-834c-f31c41305522"
      },
      "execution_count": 78,
      "outputs": [
        {
          "output_type": "execute_result",
          "data": {
            "text/plain": [
              "2*a - 25*b**2*x**8*exp(2*x**5)*sin(b*exp(x**5))*cos(exp(b*x*(x**3 + 3))) - 10*b**2*x**4*(4*x**3 + 3)*exp(x**5)*exp(b*x*(x**3 + 3))*sin(exp(b*x*(x**3 + 3)))*cos(b*exp(x**5)) - b**2*(4*x**3 + 3)**2*exp(2*b*x*(x**3 + 3))*sin(b*exp(x**5))*cos(exp(b*x*(x**3 + 3))) - b**2*(4*x**3 + 3)**2*exp(b*x*(x**3 + 3))*sin(b*exp(x**5))*sin(exp(b*x*(x**3 + 3))) + 25*b*x**8*exp(x**5)*cos(b*exp(x**5))*cos(exp(b*x*(x**3 + 3))) + 20*b*x**3*exp(x**5)*cos(b*exp(x**5))*cos(exp(b*x*(x**3 + 3))) - 12*b*x**2*exp(b*x*(x**3 + 3))*sin(b*exp(x**5))*sin(exp(b*x*(x**3 + 3))) + 144*x**6*exp(6*x**4)*exp(2*exp(3*x**4))*exp(exp(exp(3*x**4))) + 144*x**6*exp(6*x**4)*exp(exp(3*x**4))*exp(exp(exp(3*x**4))) + 144*x**6*exp(3*x**4)*exp(exp(3*x**4))*exp(exp(exp(3*x**4))) + 36*x**2*exp(3*x**4)*exp(exp(3*x**4))*exp(exp(exp(3*x**4)))"
            ],
            "text/latex": "$\\displaystyle 2 a - 25 b^{2} x^{8} e^{2 x^{5}} \\sin{\\left(b e^{x^{5}} \\right)} \\cos{\\left(e^{b x \\left(x^{3} + 3\\right)} \\right)} - 10 b^{2} x^{4} \\left(4 x^{3} + 3\\right) e^{x^{5}} e^{b x \\left(x^{3} + 3\\right)} \\sin{\\left(e^{b x \\left(x^{3} + 3\\right)} \\right)} \\cos{\\left(b e^{x^{5}} \\right)} - b^{2} \\left(4 x^{3} + 3\\right)^{2} e^{2 b x \\left(x^{3} + 3\\right)} \\sin{\\left(b e^{x^{5}} \\right)} \\cos{\\left(e^{b x \\left(x^{3} + 3\\right)} \\right)} - b^{2} \\left(4 x^{3} + 3\\right)^{2} e^{b x \\left(x^{3} + 3\\right)} \\sin{\\left(b e^{x^{5}} \\right)} \\sin{\\left(e^{b x \\left(x^{3} + 3\\right)} \\right)} + 25 b x^{8} e^{x^{5}} \\cos{\\left(b e^{x^{5}} \\right)} \\cos{\\left(e^{b x \\left(x^{3} + 3\\right)} \\right)} + 20 b x^{3} e^{x^{5}} \\cos{\\left(b e^{x^{5}} \\right)} \\cos{\\left(e^{b x \\left(x^{3} + 3\\right)} \\right)} - 12 b x^{2} e^{b x \\left(x^{3} + 3\\right)} \\sin{\\left(b e^{x^{5}} \\right)} \\sin{\\left(e^{b x \\left(x^{3} + 3\\right)} \\right)} + 144 x^{6} e^{6 x^{4}} e^{2 e^{3 x^{4}}} e^{e^{e^{3 x^{4}}}} + 144 x^{6} e^{6 x^{4}} e^{e^{3 x^{4}}} e^{e^{e^{3 x^{4}}}} + 144 x^{6} e^{3 x^{4}} e^{e^{3 x^{4}}} e^{e^{e^{3 x^{4}}}} + 36 x^{2} e^{3 x^{4}} e^{e^{3 x^{4}}} e^{e^{e^{3 x^{4}}}}$"
          },
          "metadata": {},
          "execution_count": 78
        }
      ]
    },
    {
      "cell_type": "markdown",
      "source": [
        "As shown in the above examples one can use sympy library to differentiate differentiable functions.\n",
        "higher order differentiation can also be take as showen above.\n"
      ],
      "metadata": {
        "id": "HkSPZDBKXM9n"
      }
    }
  ]
}